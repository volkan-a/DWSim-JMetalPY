{
 "cells": [
  {
   "cell_type": "code",
   "execution_count": 1,
   "id": "e9e24c9e-f343-48a9-aab9-490e5db5a6c3",
   "metadata": {},
   "outputs": [],
   "source": [
    "PATH = \"c:\\\\Users\\\\Volkan\\\\AppData\\\\Local\\\\DWSIM8\\\\\"\n",
    "clr.AddReference(PATH+\"DWSIM.Interfaces.dll\")\n",
    "clr.AddReference(PATH+\"DWSIM.Automation.dll\")\n",
    "\n",
    "def get_simulation_win(file_name: str):\n",
    "    import pythoncom\n",
    "    pythoncom.CoInitialize()\n",
    "    import clr\n",
    "\n",
    "\n",
    "    from DWSIM.Automation import Automation2\n",
    "\n",
    "    fs = Automation2()\n",
    "    return fs.LoadFlowsheet(file_name)\n"
   ]
  },
  {
   "cell_type": "code",
   "execution_count": 2,
   "id": "88326117-a437-43db-a8bd-6b1078727aca",
   "metadata": {},
   "outputs": [
    {
     "ename": "ModuleNotFoundError",
     "evalue": "No module named 'DWSIM'",
     "output_type": "error",
     "traceback": [
      "\u001b[1;31m---------------------------------------------------------------------------\u001b[0m",
      "\u001b[1;31mModuleNotFoundError\u001b[0m                       Traceback (most recent call last)",
      "Input \u001b[1;32mIn [2]\u001b[0m, in \u001b[0;36m<cell line: 1>\u001b[1;34m()\u001b[0m\n\u001b[1;32m----> 1\u001b[0m \u001b[38;5;28;01mfrom\u001b[39;00m \u001b[38;5;21;01mDWSIM\u001b[39;00m\u001b[38;5;21;01m.\u001b[39;00m\u001b[38;5;21;01mInterfaces\u001b[39;00m\u001b[38;5;21;01m.\u001b[39;00m\u001b[38;5;21;01mEnums\u001b[39;00m \u001b[38;5;28;01mimport\u001b[39;00m PropertyType\n\u001b[0;32m      2\u001b[0m sim \u001b[38;5;241m=\u001b[39m get_simulation_win(\u001b[38;5;124m\"\u001b[39m\u001b[38;5;124mregenerative_rankine_cycle.dwxmz\u001b[39m\u001b[38;5;124m\"\u001b[39m)\n",
      "\u001b[1;31mModuleNotFoundError\u001b[0m: No module named 'DWSIM'"
     ]
    }
   ],
   "source": [
    "from DWSIM.Interfaces.Enums import PropertyType\n",
    "sim = get_simulation_win(\"regenerative_rankine_cycle.dwxmz\")"
   ]
  },
  {
   "cell_type": "code",
   "execution_count": 3,
   "id": "435547ad-ad73-49d5-a923-d437d121f91e",
   "metadata": {},
   "outputs": [],
   "source": [
    "mixer = sim.GetFlowsheetSimulationObject(\"6\")"
   ]
  },
  {
   "cell_type": "code",
   "execution_count": null,
   "id": "fadedfad-6795-4298-b0df-0bd91accb3c0",
   "metadata": {},
   "outputs": [
    {
     "ename": "NameError",
     "evalue": "name 'interfaces' is not defined",
     "output_type": "error",
     "traceback": [
      "\u001b[1;31m---------------------------------------------------------------------------\u001b[0m",
      "\u001b[1;31mNameError\u001b[0m                                 Traceback (most recent call last)",
      "Input \u001b[1;32mIn [4]\u001b[0m, in \u001b[0;36m<cell line: 1>\u001b[1;34m()\u001b[0m\n\u001b[1;32m----> 1\u001b[0m mixer\u001b[38;5;241m.\u001b[39mGetProperties(\u001b[43minterfaces\u001b[49m\u001b[38;5;241m.\u001b[39menums\u001b[38;5;241m.\u001b[39mPropertyType\u001b[38;5;241m.\u001b[39mALL)\n",
      "\u001b[1;31mNameError\u001b[0m: name 'interfaces' is not defined"
     ]
    }
   ],
   "source": [
    "\n",
    "mixer.GetProperties(interfaces.enums.PropertyType.ALL)"
   ]
  },
  {
   "cell_type": "code",
   "execution_count": null,
   "id": "b932f2ad-3b9b-4e9f-beb5-a2941fa478c7",
   "metadata": {},
   "outputs": [],
   "source": []
  }
 ],
 "metadata": {
  "kernelspec": {
   "display_name": "Python 3 (ipykernel)",
   "language": "python",
   "name": "python3"
  },
  "language_info": {
   "codemirror_mode": {
    "name": "ipython",
    "version": 3
   },
   "file_extension": ".py",
   "mimetype": "text/x-python",
   "name": "python",
   "nbconvert_exporter": "python",
   "pygments_lexer": "ipython3",
   "version": "3.10.6"
  }
 },
 "nbformat": 4,
 "nbformat_minor": 5
}
