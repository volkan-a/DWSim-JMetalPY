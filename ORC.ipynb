{
 "cells": [
  {
   "cell_type": "code",
   "execution_count": 1,
   "id": "c6e4453a-e0cd-44a6-8d0b-d697a19d9154",
   "metadata": {},
   "outputs": [],
   "source": [
    "import random\n",
    "from sys import platform\n",
    "import clr\n",
    "import numpy as np\n",
    "import matplotlib.pyplot as plt\n",
    "from jmetal.algorithm.singleobjective import GeneticAlgorithm\n",
    "from jmetal.operator import SBXCrossover, PolynomialMutation, RandomSolutionSelection\n",
    "from jmetal.util.termination_criterion import StoppingByKeyboard, StoppingByEvaluations\n",
    "from jmetal.util.observer import PrintObjectivesObserver\n",
    "\n",
    "from jmetal.core.quality_indicator import GenerationalDistance\n",
    "from jmetal.core.problem import FloatProblem, FloatSolution, OnTheFlyFloatProblem\n",
    "from jmetal.util.solution import (\n",
    "    get_non_dominated_solutions,\n",
    "    print_function_values_to_screen,\n",
    "    print_variables_to_screen,\n",
    ")\n",
    "\n",
    "if platform == \"win32\":\n",
    "    import pythoncom\n",
    "\n",
    "    pythoncom.CoInitialize()\n",
    "    PATH = \"c:\\\\Users\\\\volkan.akkaya\\\\AppData\\\\Local\\\\DWSIM8\\\\\"\n",
    "elif platform == \"linux\":\n",
    "    PATH = \"/usr/local/lib/dwsim/\"\n",
    "\n",
    "\n",
    "clr.AddReference(PATH + \"DWSIM.Automation.dll\")\n",
    "clr.AddReference(PATH + \"DWSIM.Interfaces.dll\")\n",
    "clr.AddReference(PATH + \"DWSIM.UnitOperations.dll\")\n",
    "\n",
    "from DWSIM.Automation import Automation2\n",
    "from DWSIM.Interfaces.Enums import PropertyType\n",
    "\n",
    "fs = Automation2()\n",
    "sim = fs.LoadFlowsheet(\"orc6.dwxmz\")\n",
    "\n",
    "def print_properties(uo_name:str):\n",
    "    global sim\n",
    "    a = sim.GetFlowsheetSimulationObject(uo_name)\n",
    "    for p in a.GetProperties(PropertyType.ALL):\n",
    "        print(f\"{p}: {a.GetPropertyValue(p)}\")"
   ]
  },
  {
   "cell_type": "code",
   "execution_count": 9,
   "id": "fadedfad-6795-4298-b0df-0bd91accb3c0",
   "metadata": {},
   "outputs": [
    {
     "name": "stdout",
     "output_type": "stream",
     "text": [
      "0.5\t1.0\t    1.0\t    1.0\t    10207.011928414902\n",
      "0.55\t1.0\t    1.0\t    1.0\t    10303.814083360121\n",
      "0.6\t1.0\t    1.0\t    1.0\t    10404.761259893752\n",
      "0.65\t1.0\t    1.0\t    1.0\t    10505.290622939627\n",
      "0.7\t1.0\t    1.0\t    0.9893679475268833\t    10606.167054282774\n",
      "0.75\t1.0\t    1.0\t    0.9738622516733317\t    10706.94940028159\n",
      "0.8\t1.0\t    1.0\t    0.9604542320591756\t    10807.535316732225\n",
      "0.8500000000000001\t0.953650138226716\t    1.0\t    0.8562480462158715\t    10459.120997166337\n",
      "0.9\t0.8418142352743802\t    0.9951195549308219\t    0.6749574825466355\t    9544.383191599904\n",
      "0.95\t0.7684667293138613\t    0.9477047247282473\t    0.5733313798078358\t    8975.472880840374\n",
      "1.0\t0.7224402104931378\t    0.9179512989488496\t    0.5227213012023507\t    8673.94722241403\n"
     ]
    }
   ],
   "source": [
    "splitter = sim.GetFlowsheetSimulationObject(\"SPLITTER\")\n",
    "orc10 = sim.GetFlowsheetSimulationObject(\"ORC10\")\n",
    "f = sim.GetFlowsheetSimulationObject(\"f\")\n",
    "g = sim.GetFlowsheetSimulationObject(\"g\")\n",
    "lpt = sim.GetFlowsheetSimulationObject(\"LP TURBINE\")\n",
    "wthp = sim.GetFlowsheetSimulationObject(\"Wthp\")\n",
    "wtlp = sim.GetFlowsheetSimulationObject(\"Wtlp\")\n",
    "wp = sim.GetFlowsheetSimulationObject(\"Wp\")\n",
    "\n",
    "sr = np.linspace(0.5, 1.0, 11)\n",
    "\n",
    "for sri in sr:\n",
    "    splitter.SetPropertyValue(\"SR1\", float(sri))\n",
    "    fs.CalculateFlowsheet2(sim)\n",
    "    wtot = wtlp.GetPropertyValue(\"PROP_ES_0\")+wthp.GetPropertyValue(\"PROP_ES_0\")-wp.GetPropertyValue(\"PROP_ES_0\")\n",
    "    \n",
    "    print(f\"{sri}\\t{f.GetPropertyValue('PROP_MS_27')}\\t\\\n",
    "    {g.GetPropertyValue('PROP_MS_27')}\\t\\\n",
    "    {orc10.GetPropertyValue('PROP_MS_27')}\\t\\\n",
    "    {wtot}\")"
   ]
  },
  {
   "cell_type": "code",
   "execution_count": 16,
   "id": "209272eb-b93a-45a6-a837-2e04dc526199",
   "metadata": {},
   "outputs": [
    {
     "name": "stdout",
     "output_type": "stream",
     "text": [
      "10750.146971757222 304.9065363062054\n",
      "10925.206498307985 314.9909238797987\n",
      "11129.96464941826 313.9712282013117\n",
      "11340.878973892168 312.92945434794905\n",
      "11558.312729439025 311.8644359023193\n",
      "11782.662002811821 310.7749066207643\n",
      "12014.361322562783 309.65948855886194\n",
      "12253.888086584031 308.5166784340933\n",
      "12501.768474116958 307.3448319376167\n",
      "12758.584416474325 306.1421456663137\n",
      "47.42684030532837\n"
     ]
    }
   ],
   "source": [
    "lpt = sim.GetFlowsheetSimulationObject(\"LP TURBINE\")\n",
    "wthp = sim.GetFlowsheetSimulationObject(\"Wthp\")\n",
    "wtlp = sim.GetFlowsheetSimulationObject(\"Wtlp\")\n",
    "wp = sim.GetFlowsheetSimulationObject(\"Wp\")\n",
    "orc11a = sim.GetFlowsheetSimulationObject(\"ORC11a\")\n",
    "po = np.linspace(400e3,300e3,10)\n",
    "\n",
    "import time\n",
    "start = time.time()\n",
    "for p in po:\n",
    "    lpt.SetPropertyValue(\"PROP_TU_4\", float(p))\n",
    "    fs.CalculateFlowsheet2(sim)\n",
    "    wtot = wtlp.GetPropertyValue(\"PROP_ES_0\")+wthp.GetPropertyValue(\"PROP_ES_0\")-wp.GetPropertyValue(\"PROP_ES_0\")\n",
    "    t = orc11a.GetPropertyValue(\"PROP_MS_0\")\n",
    "    print(f\"{wtot} {t}\")\n",
    "stop = time.time()\n",
    "print(stop-start)"
   ]
  },
  {
   "cell_type": "code",
   "execution_count": 10,
   "id": "f55713e5-c51e-455c-b3b1-fb85e03c7fe2",
   "metadata": {},
   "outputs": [
    {
     "name": "stdout",
     "output_type": "stream",
     "text": [
      "2700000.0 10704.811575924417 0.9919977185673934 1.0\n",
      "2800000.0 10730.661987487105 0.965600044568663 1.0\n",
      "2900000.0 10741.031136126021 0.938192469881393 1.0\n",
      "3000000.0 10732.815282268042 0.9080725204656841 0.9903245221353865\n",
      "3100000.0 10705.370151259076 0.8746300614099156 0.9777124027402702\n",
      "3200000.0 10651.612359497594 0.8352135020313677 0.9639671032586695\n",
      "3300000.0 10566.854775125525 0.7872183511793561 0.948691592931316\n",
      "3400000.0 10437.411306079612 0.7246180154811622 0.9307233905181087\n",
      "3500000.0 10228.033347608443 0.6326814171541694 0.9071490697030348\n"
     ]
    }
   ],
   "source": [
    "pu = np.linspace(2.7e6, 3.5e6, 9)\n",
    "feed_pump = sim.GetFlowsheetSimulationObject(\"FEED PUMP\")\n",
    "lpt = sim.GetFlowsheetSimulationObject(\"LP TURBINE\")\n",
    "wthp = sim.GetFlowsheetSimulationObject(\"Wthp\")\n",
    "wtlp = sim.GetFlowsheetSimulationObject(\"Wtlp\")\n",
    "wp = sim.GetFlowsheetSimulationObject(\"Wp\")\n",
    "orc10 = sim.GetFlowsheetSimulationObject(\"ORC10\")\n",
    "f = sim.GetFlowsheetSimulationObject(\"f\")\n",
    "for p in pu:\n",
    "    feed_pump.SetPropertyValue(\"PROP_PU_5\", float(p))\n",
    "    fs.CalculateFlowsheet2(sim)\n",
    "    wtot = wtlp.GetPropertyValue(\"PROP_ES_0\")+wthp.GetPropertyValue(\"PROP_ES_0\")-wp.GetPropertyValue(\"PROP_ES_0\")\n",
    "    x1 = orc10.GetPropertyValue(\"PROP_MS_27\")\n",
    "    x2 = f.GetPropertyValue(\"PROP_MS_27\")\n",
    "    print(f\"{p} {wtot} {x1} {x2}\")\n",
    "    "
   ]
  },
  {
   "cell_type": "code",
   "execution_count": 6,
   "id": "a714e60a-ac73-41bd-81b5-6bcd69dadada",
   "metadata": {},
   "outputs": [],
   "source": [
    "class Problem(FloatProblem):\n",
    "    def __init__(self):\n",
    "        super(Problem, self).__init__()\n",
    "    \n",
    "        self.number_of_objectives = 1\n",
    "        self.number_of_constraints = 3\n",
    "        self.number_of_variables = 3\n",
    "        self.lower_bound = [2500e3, 1000e3, 0.5]\n",
    "        self.upper_bound = [3500e3, 2000e3, 1.0]\n",
    "        \n",
    "    def evaluate(self, solution: FloatSolution)->FloatSolution:\n",
    "        # global fs\n",
    "        # global sim\n",
    "        # decision variables\n",
    "        p_feed_pump = solution.variables[0]\n",
    "        p_hp_turbine = solution.variables[1]\n",
    "        # p_lp_turbine = solution.variables[2]\n",
    "        sr1_splitter = solution.variables[2]\n",
    "        \n",
    "        # unit operations of decision variables\n",
    "        feed_pump = sim.GetFlowsheetSimulationObject(\"FEED PUMP\")\n",
    "        hp_turbine = sim.GetFlowsheetSimulationObject(\"HP TURBINE\")\n",
    "        lp_turbine = sim.GetFlowsheetSimulationObject(\"LP TURBINE\")\n",
    "        splitter = sim.GetFlowsheetSimulationObject(\"SPLITTER\")\n",
    "        \n",
    "        #unit operations of constraints\n",
    "        orc10 = sim.GetFlowsheetSimulationObject(\"ORC10\")\n",
    "        f = sim.GetFlowsheetSimulationObject(\"f\")\n",
    "        g = sim.GetFlowsheetSimulationObject(\"g\")\n",
    "        orc11 = sim.GetFlowsheetSimulationObject(\"ORC11\")\n",
    "        \n",
    "        # unit operations of objective function\n",
    "        wthp = sim.GetFlowsheetSimulationObject(\"Wthp\")\n",
    "        wtlp = sim.GetFlowsheetSimulationObject(\"Wtlp\")\n",
    "        wp = sim.GetFlowsheetSimulationObject(\"Wp\")\n",
    "        \n",
    "        feed_pump.SetPropertyValue(\"PROP_PU_5\", p_feed_pump)\n",
    "        hp_turbine.SetPropertyValue(\"PROP_TU_4\", p_hp_turbine)\n",
    "        # lp_turbine.SetPropertyValue(\"PROP_TU_4\", p_lp_turbine)\n",
    "        splitter.SetPropertyValue(\"SR1\", sr1_splitter)\n",
    "        \n",
    "        fs.CalculateFlowsheet2(sim)\n",
    "        \n",
    "        \n",
    "        wlp = wtlp.GetPropertyValue(\"PROP_ES_0\")\n",
    "        whp = wthp.GetPropertyValue(\"PROP_ES_0\")\n",
    "        wp = wp.GetPropertyValue(\"PROP_ES_0\")\n",
    "        \n",
    "        xorc10 = orc10.GetPropertyValue(\"PROP_MS_27\")\n",
    "        xf = f.GetPropertyValue(\"PROP_MS_27\")\n",
    "        xg = g.GetPropertyValue(\"PROP_MS_27\")\n",
    "        # torc11 = orc11.GetPropertyValue(\"PROP_MS_0\")\n",
    "        \n",
    "        solution.objectives= [-wlp-whp+wp]\n",
    "        \n",
    "        solution.constraints = [\n",
    "            -xorc10+0.85,\n",
    "            -xf+0.85,\n",
    "            -xg+0.85,\n",
    "           # -torc11+310,\n",
    "           # p_hp_turbine-p_feed_pump,\n",
    "           # p_lp_turbine-p_hp_turbine            \n",
    "        ]\n",
    "        \n",
    "        # if sim.ErrorMessage!=None:\n",
    "        #   print(sim.ErrorMessage[0:50])\n",
    "        #    sim = fs.LoadFlowsheet(\"orc6.dxwmz\")\n",
    "        \n",
    "        return solution\n",
    "    \n",
    "    def create_solution(self)->FloatSolution:\n",
    "        new_solution = FloatSolution(\n",
    "            number_of_objectives=self.number_of_objectives,\n",
    "            number_of_constraints=self.number_of_constraints,\n",
    "            lower_bound=self.lower_bound,\n",
    "            upper_bound=self.upper_bound)\n",
    "        \n",
    "        new_solution.variables = [\n",
    "            2500e3+(3500e3-2500e3)*random.random(),\n",
    "            1000e3+(2000e3-1000e3)*random.random(),\n",
    "            # 300e3+(400e3-300e3)*random.random(),\n",
    "            0.5 + (1.0-0.5)*random.random()\n",
    "        ]\n",
    "        \n",
    "        return new_solution\n",
    "    \n",
    "    def get_name(self)->str:\n",
    "        return \"ORC optimization\""
   ]
  },
  {
   "cell_type": "code",
   "execution_count": 8,
   "id": "11f2e226-cd1c-46fb-ae57-5b10534af069",
   "metadata": {},
   "outputs": [],
   "source": [
    "problem = Problem()\n",
    "algorithm = GeneticAlgorithm(\n",
    "    problem=problem,\n",
    "    population_size=50,\n",
    "    offspring_population_size=50,\n",
    "    mutation=PolynomialMutation(\n",
    "        probability=1.0 / problem.number_of_variables, distribution_index=20\n",
    "    ),\n",
    "    crossover=SBXCrossover(probability=1.0, distribution_index=20),\n",
    "    selection=RandomSolutionSelection(),\n",
    "    termination_criterion=StoppingByEvaluations(max_evaluations=1000),\n",
    "    #termination_criterion=StoppingByKeyboard(),\n",
    ")\n",
    "basic = PrintObjectivesObserver()\n",
    "algorithm.observable.register(basic)"
   ]
  },
  {
   "cell_type": "code",
   "execution_count": 6,
   "id": "3d0c966c-7ca9-499e-89b3-8c9783d75c79",
   "metadata": {},
   "outputs": [
    {
     "name": "stdout",
     "output_type": "stream",
     "text": [
      "[2920047.630746697, 1191631.441430647, 300308.7740743387, 0.834006674646403]\n",
      "[-0.06324221194217305, -0.15000000000000002, -0.15000000000000002, 5.058666980309681]\n",
      "-12679.061399860531\n"
     ]
    }
   ],
   "source": [
    "sol = algorithm.get_result()\n",
    "print(sol.variables)\n",
    "print(sol.constraints)\n",
    "print(sol.objectives[0])"
   ]
  },
  {
   "cell_type": "code",
   "execution_count": 7,
   "id": "0182ec1d-86f2-4068-a23d-74c0cebf039e",
   "metadata": {},
   "outputs": [
    {
     "name": "stderr",
     "output_type": "stream",
     "text": [
      "2022-09-03 18:53:50,478 [MainThread  ] [INFO ]  Evaluations: 50. fitness: [-10590.439255890184]\n",
      "2022-09-03 19:24:06,321 [MainThread  ] [INFO ]  Evaluations: 100. fitness: [-11966.418105050947]\n",
      "2022-09-03 19:46:53,901 [MainThread  ] [INFO ]  Evaluations: 150. fitness: [-12346.466490739349]\n",
      "2022-09-03 20:05:46,305 [MainThread  ] [INFO ]  Evaluations: 200. fitness: [-12346.466490739349]\n",
      "2022-09-03 20:24:51,712 [MainThread  ] [INFO ]  Evaluations: 250. fitness: [-12420.754110948788]\n",
      "2022-09-03 20:40:43,498 [MainThread  ] [INFO ]  Evaluations: 300. fitness: [-12538.620652854139]\n",
      "2022-09-03 20:57:04,014 [MainThread  ] [INFO ]  Evaluations: 350. fitness: [-12538.620652854139]\n",
      "2022-09-03 21:13:57,497 [MainThread  ] [INFO ]  Evaluations: 400. fitness: [-12538.620652854139]\n",
      "2022-09-03 21:29:18,527 [MainThread  ] [INFO ]  Evaluations: 450. fitness: [-12608.94470107493]\n",
      "2022-09-03 21:45:02,706 [MainThread  ] [INFO ]  Evaluations: 500. fitness: [-12610.173686731638]\n",
      "2022-09-03 22:00:31,227 [MainThread  ] [INFO ]  Evaluations: 550. fitness: [-12610.173686731638]\n",
      "2022-09-03 22:17:53,710 [MainThread  ] [INFO ]  Evaluations: 600. fitness: [-12678.02846469001]\n",
      "2022-09-03 22:34:02,737 [MainThread  ] [INFO ]  Evaluations: 650. fitness: [-12678.02846469001]\n",
      "2022-09-03 22:52:09,480 [MainThread  ] [INFO ]  Evaluations: 700. fitness: [-12678.02846469001]\n",
      "2022-09-03 23:07:45,793 [MainThread  ] [INFO ]  Evaluations: 750. fitness: [-12681.070949701294]\n",
      "2022-09-03 23:24:04,398 [MainThread  ] [INFO ]  Evaluations: 800. fitness: [-12681.070949701294]\n",
      "2022-09-03 23:41:25,823 [MainThread  ] [INFO ]  Evaluations: 850. fitness: [-12686.335970265904]\n",
      "2022-09-03 23:57:38,893 [MainThread  ] [INFO ]  Evaluations: 900. fitness: [-12686.335970265904]\n",
      "2022-09-04 00:11:03,967 [MainThread  ] [INFO ]  Evaluations: 950. fitness: [-12690.912291216606]\n",
      "2022-09-04 00:30:32,840 [MainThread  ] [INFO ]  Evaluations: 1000. fitness: [-12690.912291216606]\n"
     ]
    }
   ],
   "source": [
    "algorithm.run()"
   ]
  },
  {
   "cell_type": "code",
   "execution_count": null,
   "id": "49b8ce86-3ee7-4e84-84f6-f55f8ce9bfff",
   "metadata": {},
   "outputs": [],
   "source": []
  },
  {
   "cell_type": "code",
   "execution_count": 8,
   "id": "d4880542-fee0-4f9d-a9c5-8e0f62eddbcc",
   "metadata": {},
   "outputs": [
    {
     "name": "stdout",
     "output_type": "stream",
     "text": [
      "[3012781.3991107806, 1213392.2201064813, 300224.28437407245, 0.8384177420919912]\n",
      "[-0.03283733981332404, -0.15000000000000002, -0.15000000000000002, 5.068185705530368]\n",
      "-12690.912291216606\n"
     ]
    }
   ],
   "source": [
    "sol = algorithm.get_result()\n",
    "print(sol.variables)\n",
    "print(sol.constraints)\n",
    "print(sol.objectives[0])\n"
   ]
  },
  {
   "cell_type": "code",
   "execution_count": 10,
   "id": "df86884c-3bc7-448e-b8b6-96d6c503435c",
   "metadata": {},
   "outputs": [
    {
     "name": "stderr",
     "output_type": "stream",
     "text": [
      "2022-09-04 01:23:14,113 [Thread-5    ] [INFO ]  Evaluations: 50. fitness: [-11524.129106545519]\n",
      "2022-09-04 01:51:45,377 [Thread-5    ] [INFO ]  Evaluations: 100. fitness: [-12113.543788002104]\n",
      "2022-09-04 02:17:25,226 [Thread-5    ] [INFO ]  Evaluations: 150. fitness: [-12113.543788002104]\n",
      "2022-09-04 02:42:05,415 [Thread-5    ] [INFO ]  Evaluations: 200. fitness: [-12380.232007634499]\n",
      "2022-09-04 03:05:05,635 [Thread-5    ] [INFO ]  Evaluations: 250. fitness: [-12380.232007634499]\n",
      "2022-09-04 03:24:23,480 [Thread-5    ] [INFO ]  Evaluations: 300. fitness: [-12425.849008517083]\n",
      "2022-09-04 03:43:52,591 [Thread-5    ] [INFO ]  Evaluations: 350. fitness: [-12520.221426558222]\n",
      "2022-09-04 04:02:38,208 [Thread-5    ] [INFO ]  Evaluations: 400. fitness: [-12523.231969922363]\n",
      "2022-09-04 04:22:31,525 [Thread-5    ] [INFO ]  Evaluations: 450. fitness: [-12523.231969922363]\n",
      "2022-09-04 04:42:39,768 [Thread-5    ] [INFO ]  Evaluations: 500. fitness: [-12588.388060304396]\n",
      "2022-09-04 05:02:46,044 [Thread-5    ] [INFO ]  Evaluations: 550. fitness: [-12603.969076340696]\n",
      "2022-09-04 05:23:53,114 [Thread-5    ] [INFO ]  Evaluations: 600. fitness: [-12638.584541148277]\n",
      "2022-09-04 05:41:49,877 [Thread-5    ] [INFO ]  Evaluations: 650. fitness: [-12638.584541148277]\n",
      "2022-09-04 06:01:29,282 [Thread-5    ] [INFO ]  Evaluations: 700. fitness: [-12638.584541148277]\n",
      "2022-09-04 06:17:15,373 [Thread-5    ] [INFO ]  Evaluations: 750. fitness: [-12662.039867407695]\n",
      "2022-09-04 06:35:52,980 [Thread-5    ] [INFO ]  Evaluations: 800. fitness: [-12665.676801042944]\n",
      "2022-09-04 06:52:59,014 [Thread-5    ] [INFO ]  Evaluations: 850. fitness: [-12683.349933360958]\n",
      "2022-09-04 07:12:20,367 [Thread-5    ] [INFO ]  Evaluations: 900. fitness: [-12683.349933360958]\n",
      "2022-09-04 07:31:42,683 [Thread-5    ] [INFO ]  Evaluations: 950. fitness: [-12683.349933360958]\n",
      "2022-09-04 07:49:15,194 [Thread-5    ] [INFO ]  Evaluations: 1000. fitness: [-12683.349933360958]\n"
     ]
    }
   ],
   "source": [
    "algorithm.start()"
   ]
  },
  {
   "cell_type": "code",
   "execution_count": 11,
   "id": "a199e82c-5333-4a3e-8348-e6718d257495",
   "metadata": {},
   "outputs": [
    {
     "name": "stdout",
     "output_type": "stream",
     "text": [
      "[2967918.8048006194, 1198053.4367124378, 300171.5113585641, 0.8340647066604355]\n",
      "[-0.049119766279653865, -0.15000000000000002, -0.15000000000000002, 5.074132210774735]\n",
      "-12683.349933360958\n"
     ]
    }
   ],
   "source": [
    "sol = algorithm.get_result()\n",
    "print(sol.variables)\n",
    "print(sol.constraints)\n",
    "print(sol.objectives[0])"
   ]
  },
  {
   "cell_type": "code",
   "execution_count": 9,
   "id": "6df948a9-0168-411a-9e88-f55999314e8e",
   "metadata": {},
   "outputs": [
    {
     "name": "stderr",
     "output_type": "stream",
     "text": [
      "2022-09-04 11:06:50,618 [MainThread  ] [INFO ]  Evaluations: 50. fitness: [-9560.688281418079]\n",
      "2022-09-04 11:30:48,047 [MainThread  ] [INFO ]  Evaluations: 100. fitness: [-10839.643446726395]\n",
      "2022-09-04 11:51:10,892 [MainThread  ] [INFO ]  Evaluations: 150. fitness: [-10869.967898477425]\n",
      "2022-09-04 12:13:11,715 [MainThread  ] [INFO ]  Evaluations: 200. fitness: [-10893.998221426853]\n",
      "2022-09-04 12:33:04,497 [MainThread  ] [INFO ]  Evaluations: 250. fitness: [-10893.998221426853]\n",
      "2022-09-04 12:52:06,162 [MainThread  ] [INFO ]  Evaluations: 300. fitness: [-10893.998221426853]\n",
      "2022-09-04 13:09:24,542 [MainThread  ] [INFO ]  Evaluations: 350. fitness: [-10902.78208044953]\n",
      "2022-09-04 13:29:29,127 [MainThread  ] [INFO ]  Evaluations: 400. fitness: [-10902.78208044953]\n",
      "2022-09-04 13:54:08,462 [MainThread  ] [INFO ]  Evaluations: 450. fitness: [-10909.581353941654]\n",
      "2022-09-04 14:14:47,043 [MainThread  ] [INFO ]  Evaluations: 500. fitness: [-10909.581353941654]\n",
      "2022-09-04 14:30:55,710 [MainThread  ] [INFO ]  Evaluations: 550. fitness: [-10917.202385008155]\n",
      "2022-09-04 14:50:12,714 [MainThread  ] [INFO ]  Evaluations: 600. fitness: [-10917.202385008155]\n",
      "2022-09-04 15:09:24,081 [MainThread  ] [INFO ]  Evaluations: 650. fitness: [-10917.202385008155]\n",
      "2022-09-04 15:28:07,641 [MainThread  ] [INFO ]  Evaluations: 700. fitness: [-10917.202385008155]\n",
      "2022-09-04 15:45:49,697 [MainThread  ] [INFO ]  Evaluations: 750. fitness: [-10920.574123880644]\n",
      "2022-09-04 16:03:55,634 [MainThread  ] [INFO ]  Evaluations: 800. fitness: [-10920.574123880644]\n",
      "2022-09-04 16:23:12,733 [MainThread  ] [INFO ]  Evaluations: 850. fitness: [-10920.574123880644]\n",
      "2022-09-04 16:40:27,499 [MainThread  ] [INFO ]  Evaluations: 900. fitness: [-10920.574123880644]\n",
      "2022-09-04 16:57:34,564 [MainThread  ] [INFO ]  Evaluations: 950. fitness: [-10920.574123880644]\n",
      "2022-09-04 17:22:06,549 [MainThread  ] [INFO ]  Evaluations: 1000. fitness: [-10920.574123880644]\n"
     ]
    },
    {
     "name": "stdout",
     "output_type": "stream",
     "text": [
      "Elapsed time: 24244.725164413452\n"
     ]
    }
   ],
   "source": [
    "import time\n",
    "start = time.time()\n",
    "algorithm.run()\n",
    "stop = time.time()\n",
    "print(f\"Elapsed time: {stop-start}\")"
   ]
  },
  {
   "cell_type": "code",
   "execution_count": 12,
   "id": "9258f209-56f4-49d2-a09e-d36c1a69b4a9",
   "metadata": {},
   "outputs": [
    {
     "name": "stdout",
     "output_type": "stream",
     "text": [
      "[3046471.997268237, 1223162.806700811, 0.8379382441184651]\n",
      "[-0.022880598055368906, -0.15000000000000002, -0.15000000000000002]\n",
      "-10920.574123880644\n"
     ]
    }
   ],
   "source": [
    "res = algorithm.get_result()\n",
    "print(res.variables)\n",
    "print(res.constraints)\n",
    "print(res.objectives[0])"
   ]
  },
  {
   "cell_type": "code",
   "execution_count": null,
   "id": "6526bee8-4796-43ea-95d5-a5d9f7bc9f9a",
   "metadata": {},
   "outputs": [],
   "source": []
  },
  {
   "cell_type": "code",
   "execution_count": 13,
   "id": "9ebc7882-ce62-413b-a5a3-1f4beefddd90",
   "metadata": {},
   "outputs": [
    {
     "name": "stderr",
     "output_type": "stream",
     "text": [
      "2022-09-04 23:19:09,111 [MainThread  ] [INFO ]  Evaluations: 50. fitness: [-10148.041512644904]\n",
      "2022-09-04 23:51:24,195 [MainThread  ] [INFO ]  Evaluations: 100. fitness: [-10803.979630954113]\n",
      "2022-09-05 00:16:44,564 [MainThread  ] [INFO ]  Evaluations: 150. fitness: [-10803.979630954113]\n",
      "2022-09-05 00:40:17,227 [MainThread  ] [INFO ]  Evaluations: 200. fitness: [-10803.979630954113]\n",
      "2022-09-05 01:04:58,233 [MainThread  ] [INFO ]  Evaluations: 250. fitness: [-10827.069668816412]\n",
      "2022-09-05 01:29:15,484 [MainThread  ] [INFO ]  Evaluations: 300. fitness: [-10827.069668816412]\n",
      "2022-09-05 01:49:07,026 [MainThread  ] [INFO ]  Evaluations: 350. fitness: [-10902.302942285283]\n",
      "2022-09-05 02:10:03,327 [MainThread  ] [INFO ]  Evaluations: 400. fitness: [-10902.302942285283]\n",
      "2022-09-05 02:30:03,644 [MainThread  ] [INFO ]  Evaluations: 450. fitness: [-10902.302942285283]\n",
      "2022-09-05 02:48:34,593 [MainThread  ] [INFO ]  Evaluations: 500. fitness: [-10903.078644231246]\n",
      "2022-09-05 03:06:27,362 [MainThread  ] [INFO ]  Evaluations: 550. fitness: [-10903.078644231246]\n",
      "2022-09-05 03:27:09,715 [MainThread  ] [INFO ]  Evaluations: 600. fitness: [-10910.79246366103]\n",
      "2022-09-05 03:49:11,327 [MainThread  ] [INFO ]  Evaluations: 650. fitness: [-10911.751627543874]\n",
      "2022-09-05 04:10:12,882 [MainThread  ] [INFO ]  Evaluations: 700. fitness: [-10911.751627543874]\n",
      "2022-09-05 04:28:54,899 [MainThread  ] [INFO ]  Evaluations: 750. fitness: [-10911.751627543874]\n",
      "2022-09-05 04:47:18,410 [MainThread  ] [INFO ]  Evaluations: 800. fitness: [-10914.085999107076]\n",
      "2022-09-05 05:04:12,530 [MainThread  ] [INFO ]  Evaluations: 850. fitness: [-10915.900101534457]\n",
      "2022-09-05 05:22:39,752 [MainThread  ] [INFO ]  Evaluations: 900. fitness: [-10918.375109424307]\n",
      "2022-09-05 05:40:41,647 [MainThread  ] [INFO ]  Evaluations: 950. fitness: [-10918.375109424307]\n",
      "2022-09-05 06:02:03,282 [MainThread  ] [INFO ]  Evaluations: 1000. fitness: [-10918.375109424307]\n"
     ]
    },
    {
     "name": "stdout",
     "output_type": "stream",
     "text": [
      "Elapsed time: 26083.468015432358\n"
     ]
    }
   ],
   "source": [
    "import time\n",
    "start = time.time()\n",
    "algorithm.run()\n",
    "stop = time.time()\n",
    "print(f\"Elapsed time: {stop-start}\")"
   ]
  },
  {
   "cell_type": "code",
   "execution_count": 14,
   "id": "1e2c4868-18c5-4a41-8abd-cebdb8651f2d",
   "metadata": {},
   "outputs": [
    {
     "name": "stdout",
     "output_type": "stream",
     "text": [
      "[3071910.034346933, 1229729.5602135935, 0.8385514158825744]\n",
      "[-0.013842318921038044, -0.15000000000000002, -0.15000000000000002]\n",
      "-10918.375109424307\n"
     ]
    }
   ],
   "source": [
    "res = algorithm.get_result()\n",
    "print(res.variables)\n",
    "print(res.constraints)\n",
    "print(res.objectives[0])"
   ]
  },
  {
   "cell_type": "code",
   "execution_count": null,
   "id": "edadcd6c-5b3f-4a8f-bc94-289ff91c0b92",
   "metadata": {},
   "outputs": [],
   "source": []
  }
 ],
 "metadata": {
  "kernelspec": {
   "display_name": "Python 3 (ipykernel)",
   "language": "python",
   "name": "python3"
  },
  "language_info": {
   "codemirror_mode": {
    "name": "ipython",
    "version": 3
   },
   "file_extension": ".py",
   "mimetype": "text/x-python",
   "name": "python",
   "nbconvert_exporter": "python",
   "pygments_lexer": "ipython3",
   "version": "3.10.7"
  }
 },
 "nbformat": 4,
 "nbformat_minor": 5
}
