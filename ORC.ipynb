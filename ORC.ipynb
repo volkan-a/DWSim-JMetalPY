{
 "cells": [
  {
   "cell_type": "code",
   "execution_count": 1,
   "id": "435547ad-ad73-49d5-a923-d437d121f91e",
   "metadata": {},
   "outputs": [],
   "source": [
    "from random import random\n",
    "from sys import platform\n",
    "import clr\n",
    "import numpy as np\n",
    "import matplotlib.pyplot as plt\n",
    "import timeit\n",
    "from jmetal.algorithm.singleobjective import GeneticAlgorithm\n",
    "from jmetal.operator import SBXCrossover, PolynomialMutation, RandomSolutionSelection\n",
    "from jmetal.util.termination_criterion import StoppingByKeyboard\n",
    "from jmetal.util.observer import PrintObjectivesObserver\n",
    "from jmetal.core.quality_indicator import GenerationalDistance\n",
    "from jmetal.core.problem import FloatProblem, FloatSolution, OnTheFlyFloatProblem\n",
    "from jmetal.util.solution import (\n",
    "    get_non_dominated_solutions,\n",
    "    print_function_values_to_screen,\n",
    "    print_variables_to_screen,\n",
    ")\n",
    "\n",
    "if platform == \"win32\":\n",
    "    import pythoncom\n",
    "\n",
    "    pythoncom.CoInitialize()\n",
    "    PATH = \"c:\\\\Users\\\\Volkan\\\\AppData\\\\Local\\\\DWSIM8\\\\\"\n",
    "elif platform == \"linux\":\n",
    "    PATH = \"/usr/local/lib/dwsim/\"\n",
    "\n",
    "\n",
    "clr.AddReference(PATH + \"DWSIM.Automation.dll\")\n",
    "clr.AddReference(PATH + \"DWSIM.Interfaces.dll\")\n",
    "clr.AddReference(PATH + \"DWSIM.UnitOperations.dll\")\n",
    "\n",
    "from DWSIM.Automation import Automation2\n",
    "from DWSIM.Interfaces.Enums import PropertyType\n",
    "\n",
    "fs = Automation2()\n",
    "sim = fs.LoadFlowsheet(\"orc6.dwxmz\")\n",
    "\n",
    "def print_properties(uo_name:str):\n",
    "    global sim\n",
    "    a = sim.GetFlowsheetSimulationObject(uo_name)\n",
    "    for p in a.GetProperties(PropertyType.ALL):\n",
    "        print(f\"{p}: {a.GetPropertyValue(p)}\")"
   ]
  },
  {
   "cell_type": "code",
   "execution_count": 28,
   "id": "fadedfad-6795-4298-b0df-0bd91accb3c0",
   "metadata": {},
   "outputs": [
    {
     "name": "stdout",
     "output_type": "stream",
     "text": [
      "0.65: 1.0\n",
      "0.7000000000000001: 1.0\n",
      "0.7500000000000001: 0.974625215024777\n",
      "0.8000000000000002: 0.9601965695255826\n",
      "0.8500000000000002: 0.8562677237526014\n",
      "Elapsed time: -0.0236416999832727\n"
     ]
    },
    {
     "data": {
      "image/png": "[encoded data removed]",
      "text/plain": [
       "<Figure size 640x480 with 1 Axes>"
      ]
     },
     "metadata": {},
     "output_type": "display_data"
    }
   ],
   "source": [
    "splitter = sim.GetFlowsheetSimulationObject(\"SPLITTER\")\n",
    "orc10 = sim.GetFlowsheetSimulationObject(\"ORC10\")\n",
    "\n",
    "sr = np.arange(0.65, .86, 0.05)\n",
    "x = []\n",
    "start = timeit.timeit()\n",
    "for sri in sr:\n",
    "    splitter.SetPropertyValue(\"SR1\", float(sri))\n",
    "    fs.CalculateFlowsheet2(sim)\n",
    "    xi = orc10.GetPropertyValue(\"PROP_MS_27\")\n",
    "    print(f\"{sri}: {xi}\")\n",
    "    x.append(xi)\n",
    "\n",
    "stop = timeit.timeit()\n",
    "\n",
    "print(f\"Elapsed time: {stop-start}\")\n",
    "    \n",
    "plt.plot(sr, x)\n",
    "plt.show()"
   ]
  },
  {
   "cell_type": "code",
   "execution_count": 16,
   "id": "209272eb-b93a-45a6-a837-2e04dc526199",
   "metadata": {},
   "outputs": [
    {
     "name": "stdout",
     "output_type": "stream",
     "text": [
      "10750.146971757222 304.9065363062054\n",
      "10925.206498307985 314.9909238797987\n",
      "11129.96464941826 313.9712282013117\n",
      "11340.878973892168 312.92945434794905\n",
      "11558.312729439025 311.8644359023193\n",
      "11782.662002811821 310.7749066207643\n",
      "12014.361322562783 309.65948855886194\n",
      "12253.888086584031 308.5166784340933\n",
      "12501.768474116958 307.3448319376167\n",
      "12758.584416474325 306.1421456663137\n",
      "47.42684030532837\n"
     ]
    }
   ],
   "source": [
    "lpt = sim.GetFlowsheetSimulationObject(\"LP TURBINE\")\n",
    "wthp = sim.GetFlowsheetSimulationObject(\"Wthp\")\n",
    "wtlp = sim.GetFlowsheetSimulationObject(\"Wtlp\")\n",
    "wp = sim.GetFlowsheetSimulationObject(\"Wp\")\n",
    "orc11a = sim.GetFlowsheetSimulationObject(\"ORC11a\")\n",
    "po = np.linspace(400e3,300e3,10)\n",
    "\n",
    "import time\n",
    "start = time.time()\n",
    "for p in po:\n",
    "    lpt.SetPropertyValue(\"PROP_TU_4\", float(p))\n",
    "    fs.CalculateFlowsheet2(sim)\n",
    "    wtot = wtlp.GetPropertyValue(\"PROP_ES_0\")+wthp.GetPropertyValue(\"PROP_ES_0\")-wp.GetPropertyValue(\"PROP_ES_0\")\n",
    "    t = orc11a.GetPropertyValue(\"PROP_MS_0\")\n",
    "    print(f\"{wtot} {t}\")\n",
    "stop = time.time()\n",
    "print(stop-start)"
   ]
  },
  {
   "cell_type": "code",
   "execution_count": 10,
   "id": "f55713e5-c51e-455c-b3b1-fb85e03c7fe2",
   "metadata": {},
   "outputs": [
    {
     "name": "stdout",
     "output_type": "stream",
     "text": [
      "2700000.0 10704.811575924417 0.9919977185673934 1.0\n",
      "2800000.0 10730.661987487105 0.965600044568663 1.0\n",
      "2900000.0 10741.031136126021 0.938192469881393 1.0\n",
      "3000000.0 10732.815282268042 0.9080725204656841 0.9903245221353865\n",
      "3100000.0 10705.370151259076 0.8746300614099156 0.9777124027402702\n",
      "3200000.0 10651.612359497594 0.8352135020313677 0.9639671032586695\n",
      "3300000.0 10566.854775125525 0.7872183511793561 0.948691592931316\n",
      "3400000.0 10437.411306079612 0.7246180154811622 0.9307233905181087\n",
      "3500000.0 10228.033347608443 0.6326814171541694 0.9071490697030348\n"
     ]
    }
   ],
   "source": [
    "pu = np.linspace(2.7e6, 3.5e6, 9)\n",
    "feed_pump = sim.GetFlowsheetSimulationObject(\"FEED PUMP\")\n",
    "lpt = sim.GetFlowsheetSimulationObject(\"LP TURBINE\")\n",
    "wthp = sim.GetFlowsheetSimulationObject(\"Wthp\")\n",
    "wtlp = sim.GetFlowsheetSimulationObject(\"Wtlp\")\n",
    "wp = sim.GetFlowsheetSimulationObject(\"Wp\")\n",
    "orc10 = sim.GetFlowsheetSimulationObject(\"ORC10\")\n",
    "f = sim.GetFlowsheetSimulationObject(\"f\")\n",
    "for p in pu:\n",
    "    feed_pump.SetPropertyValue(\"PROP_PU_5\", float(p))\n",
    "    fs.CalculateFlowsheet2(sim)\n",
    "    wtot = wtlp.GetPropertyValue(\"PROP_ES_0\")+wthp.GetPropertyValue(\"PROP_ES_0\")-wp.GetPropertyValue(\"PROP_ES_0\")\n",
    "    x1 = orc10.GetPropertyValue(\"PROP_MS_27\")\n",
    "    x2 = f.GetPropertyValue(\"PROP_MS_27\")\n",
    "    print(f\"{p} {wtot} {x1} {x2}\")\n",
    "    "
   ]
  },
  {
   "cell_type": "code",
   "execution_count": null,
   "id": "a714e60a-ac73-41bd-81b5-6bcd69dadada",
   "metadata": {},
   "outputs": [],
   "source": [
    "class Problem(FloatProblem):\n",
    "    def __init__(self):\n",
    "        super(Problem, self).__init__()\n",
    "        \n",
    "        self.number_of_objectives = 1\n",
    "        self.number_of_constraints = 2\n",
    "        \n",
    "    def evaluate(self, solution: FloatSolution)->FloatSolution:\n",
    "        pass\n",
    "    \n",
    "    def create_solution(self)->FloatSolution:\n",
    "        pass\n",
    "    \n",
    "    def get_name(self)"
   ]
  }
 ],
 "metadata": {
  "kernelspec": {
   "display_name": "Python 3 (ipykernel)",
   "language": "python",
   "name": "python3"
  },
  "language_info": {
   "codemirror_mode": {
    "name": "ipython",
    "version": 3
   },
   "file_extension": ".py",
   "mimetype": "text/x-python",
   "name": "python",
   "nbconvert_exporter": "python",
   "pygments_lexer": "ipython3",
   "version": "3.10.6"
  }
 },
 "nbformat": 4,
 "nbformat_minor": 5
}
