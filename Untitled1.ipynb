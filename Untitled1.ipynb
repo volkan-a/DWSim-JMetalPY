{
 "cells": [
  {
   "cell_type": "code",
   "execution_count": 1,
   "id": "e9e24c9e-f343-48a9-aab9-490e5db5a6c3",
   "metadata": {},
   "outputs": [],
   "source": [
    "import pythoncom\n",
    "pythoncom.CoInitialize()\n",
    "import clr\n",
    "PATH = \"c:\\\\Users\\\\Volkan\\\\AppData\\\\Local\\\\DWSIM8\\\\\"\n",
    "clr.AddReference(PATH+\"DWSIM.Interfaces.dll\")\n",
    "clr.AddReference(PATH+\"DWSIM.Automation.dll\")\n",
    "from DWSIM.Automation import Automation2\n",
    "from DWSIM.Interfaces.Enums import PropertyType\n",
    "fs = Automation2()\n",
    "sim = fs.LoadFlowsheet(\"regenerative_rankine_cycle.dwxmz\")\n"
   ]
  },
  {
   "cell_type": "code",
   "execution_count": 2,
   "id": "435547ad-ad73-49d5-a923-d437d121f91e",
   "metadata": {},
   "outputs": [],
   "source": [
    "def get_props_and_values(unit_operation:str):\n",
    "    uo = sim.GetFlowsheetSimulationObject(unit_operation)\n",
    "    for prop in uo.GetProperties(PropertyType.ALL):\n",
    "         print(f\"{prop}:\\t{uo.GetPropertyValue(prop)}\")"
   ]
  },
  {
   "cell_type": "code",
   "execution_count": 10,
   "id": "fadedfad-6795-4298-b0df-0bd91accb3c0",
   "metadata": {},
   "outputs": [
    {
     "name": "stdout",
     "output_type": "stream",
     "text": [
      "PROP_SP_1:\t0.0\n",
      "PROP_SP_2:\t0.0\n",
      "SR1:\t0.25\n",
      "SR2:\t0.75\n"
     ]
    }
   ],
   "source": [
    "get_props_and_values(\"SPLIT\")"
   ]
  },
  {
   "cell_type": "code",
   "execution_count": null,
   "id": "6b7304b3-ac18-4290-b045-63d005b66289",
   "metadata": {},
   "outputs": [],
   "source": []
  }
 ],
 "metadata": {
  "kernelspec": {
   "display_name": "Python 3 (ipykernel)",
   "language": "python",
   "name": "python3"
  },
  "language_info": {
   "codemirror_mode": {
    "name": "ipython",
    "version": 3
   },
   "file_extension": ".py",
   "mimetype": "text/x-python",
   "name": "python",
   "nbconvert_exporter": "python",
   "pygments_lexer": "ipython3",
   "version": "3.10.6"
  }
 },
 "nbformat": 4,
 "nbformat_minor": 5
}
