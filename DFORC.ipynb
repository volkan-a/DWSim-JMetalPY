{
 "cells": [
  {
   "cell_type": "code",
   "execution_count": 1,
   "id": "3a39a452-3d26-4116-888d-95538a759f8a",
   "metadata": {},
   "outputs": [
    {
     "name": "stderr",
     "output_type": "stream",
     "text": [
      "/Users/volkan/Projects/DWSim-JMetalPY/venv/lib/python3.10/site-packages/clr_loader/mono.py:180: UserWarning: Hosting Mono versions before v6.12 is known to be problematic. If the process crashes shortly after you see this message, try updating Mono to at least v6.12.\n",
      "  warnings.warn(\n"
     ]
    }
   ],
   "source": [
    "import random\n",
    "from sys import platform\n",
    "import clr\n",
    "import numpy as np\n",
    "import matplotlib.pyplot as plt\n",
    "from jmetal.algorithm.singleobjective import GeneticAlgorithm\n",
    "from jmetal.operator import SBXCrossover, PolynomialMutation, RandomSolutionSelection\n",
    "from jmetal.util.termination_criterion import StoppingByKeyboard, StoppingByEvaluations\n",
    "from jmetal.util.observer import PrintObjectivesObserver, WriteFrontToFileObserver\n",
    "\n",
    "from jmetal.core.quality_indicator import GenerationalDistance\n",
    "from jmetal.core.problem import FloatProblem, FloatSolution, OnTheFlyFloatProblem\n",
    "from jmetal.util.solution import (\n",
    "    get_non_dominated_solutions,\n",
    "    print_function_values_to_screen,\n",
    "    print_variables_to_screen,\n",
    ")\n",
    "\n",
    "if platform == \"win32\":\n",
    "    import pythoncom\n",
    "\n",
    "    pythoncom.CoInitialize()\n",
    "    PATH = \"c:\\\\Users\\\\volkan.akkaya\\\\AppData\\\\Local\\\\DWSIM8\\\\\"\n",
    "elif platform == \"linux\":\n",
    "    PATH = \"/usr/local/lib/dwsim/\"\n",
    "else:\n",
    "    PATH = \"/Applications/DWSIM.app/Contents/MonoBundle/\"\n",
    "\n",
    "\n",
    "clr.AddReference(PATH + \"DWSIM.Automation.dll\")\n",
    "clr.AddReference(PATH + \"DWSIM.Interfaces.dll\")\n",
    "clr.AddReference(PATH + \"DWSIM.UnitOperations.dll\")\n",
    "clr.AddReference(PATH + \"DWSIM.FlowsheetSolver.dll\")\n",
    "\n",
    "from DWSIM.Automation import Automation3\n",
    "#from DWSIM.Interfaces.Enums import PropertyType\n",
    "#from DWSIM.FlowsheetSolver import FlowsheetSolver\n",
    "\n",
    "fs = Automation3()\n",
    "sim = fs.LoadFlowsheet2(\"DFORC.dwxmz\")\n",
    "\n",
    "def print_properties(uo_name:str):\n",
    "    global sim\n",
    "    a = sim.GetFlowsheetSimulationObject(uo_name)\n",
    "    for p in a.GetProperties(PropertyType.ALL):\n",
    "        print(f\"{p}: {a.GetPropertyValue(p)}\")"
   ]
  },
  {
   "cell_type": "code",
   "execution_count": 2,
   "id": "24f85ecd-82ff-42ed-bd47-001559cb339a",
   "metadata": {},
   "outputs": [],
   "source": [
    "class Problem(FloatProblem):\n",
    "    def __init__(self):\n",
    "        super(Problem, self).__init__()\n",
    "        self.number_of_objectives = 1\n",
    "        self.number_of_variables = 2\n",
    "        self.number_of_constraints = 1\n",
    "        self.lower_bound = [100E3, 60E3]\n",
    "        self.upper_bound = [190E3, 190E3]\n",
    "        \n",
    "        \n",
    "        self.obj_directions=[self.MAXIMIZE]\n",
    "        self.obj_labels=[\"CHP efficiecny\"]\n",
    "        \n",
    "    def evaluate(self, solution: FloatSolution)->FloatSolution:\n",
    "        inlet = sim.GetFlowsheetSimulationObject(\"PRODUCTIONWELL\")\n",
    "        valve = sim.GetFlowsheetSimulationObject(\"VALVE1\")\n",
    "        hpt = sim.GetFlowsheetSimulationObject(\"HPT\")\n",
    "        lpt = sim.GetFlowsheetSimulationObject(\"LPT\")\n",
    "        hx =  sim.GetFlowsheetSimulationObject(\"HEATEXCHANGER\")\n",
    "        condenser =  sim.GetFlowsheetSimulationObject(\"CONDENSER\")\n",
    "        backwater1 = sim.GetFlowsheetSimulationObject( \"BACKWATER1\")\n",
    "        backwater2 = sim.GetFlowsheetSimulationObject(\"BACKWATER2\")\n",
    "        supply1 = sim.GetFlowsheetSimulationObject(\"SUPPLY1\")\n",
    "        supply2 = sim.GetFlowsheetSimulationObject(\"SUPPLY2\")\n",
    "        \n",
    "        p0 = solution.variables[0]\n",
    "        p1 = solution.variables[1]\n",
    "        valve.SetPropertyValue(\"PROP_VA_2\", float(p0))\n",
    "        hpt.SetPropertyValue(\"PROP_TU_4\", float(p1))\n",
    "        #fs.CalculateFlowsheet2(sim)\n",
    "        \n",
    "        ml = 1\n",
    "        mu = 300\n",
    "        mm = 0.5*(ml+mu)\n",
    "        for i in range(12):\n",
    "            backwater1.SetPropertyValue(\"PROP_MS_2\", ml)\n",
    "            fs.CalculateFlowsheet2(sim)\n",
    "            fl = supply1.GetPropertyValue(\"PROP_MS_0\")-318\n",
    "            backwater1.SetPropertyValue(\"PROP_MS_2\", mm)\n",
    "            fs.CalculateFlowsheet2(sim)\n",
    "            fm = supply1.GetPropertyValue(\"PROP_MS_0\")-318\n",
    "            if fm*fl<0:\n",
    "                mu = mm\n",
    "            else:\n",
    "                ml = mm\n",
    "            mm = 0.5*(mu+ml)\n",
    "            \n",
    "        ml = 1.0\n",
    "        mu = 300.0\n",
    "        mm = 0.5*(ml+mu)\n",
    "        for i in range(12):\n",
    "            backwater2.SetPropertyValue(\"PROP_MS_2\", ml)\n",
    "            fs.CalculateFlowsheet2(sim)\n",
    "            fl = supply2.GetPropertyValue(\"PROP_MS_0\")-318\n",
    "            backwater2.SetPropertyValue(\"PROP_MS_2\", mm)\n",
    "            fs.CalculateFlowsheet2(sim)\n",
    "            fm = supply2.GetPropertyValue(\"PROP_MS_0\")-318\n",
    "            if fm*fl<0:\n",
    "                mu = mm\n",
    "            else:\n",
    "                ml = mm\n",
    "            mm = 0.5*(mu+ml)\n",
    "        \n",
    "        qin = abs(inlet.GetPropertyValue(\"PROP_MS_2\")*inlet.GetPropertyValue(\"PROP_MS_32\"))\n",
    "        \n",
    "        # thermal\n",
    "        condenser_efficency = condenser.GetPropertyValue(\"PROP_HX_25\")\n",
    "        q_condenser = condenser.GetPropertyValue(\"PROP_HX_2\")\n",
    "        hx_efficency = hx.GetPropertyValue(\"PROP_HX_25\")\n",
    "        q_hx = hx.GetPropertyValue(\"PROP_HX_2\")\n",
    "        wth = (q_condenser + q_hx)\n",
    "        \n",
    "        # mechanical\n",
    "        generator_efficiency = 0.95\n",
    "        mechanical_efficiency = 0.95\n",
    "        whpt = hpt.GetPropertyValue(\"PROP_TU_3\")\n",
    "        wlpt = lpt.GetPropertyValue(\"PROP_TU_3\")\n",
    "        wnet = generator_efficiency*mechanical_efficiency*(whpt+wlpt)\n",
    "        power_gen_efficiency=wnet/qin\n",
    "        chp_efficiency = (wth+wnet)/qin\n",
    "        \n",
    "        \n",
    "        solution.objectives = [ -wnet]\n",
    "        solution.constraints = [p1-p0]\n",
    "        \n",
    "        return solution\n",
    "        \n",
    "    def create_solution(self)->FloatSolution:\n",
    "        new_solution = FloatSolution(\n",
    "        number_of_objectives=self.number_of_objectives,\n",
    "        number_of_constraints=self.number_of_constraints,\n",
    "        lower_bound=self.lower_bound,\n",
    "        upper_bound=self.upper_bound)\n",
    "        p0 = 100E3+random.random()*(190E3-100E3)\n",
    "        p1 = 60e3+random.random()*(p0-60e3)\n",
    "        new_solution.variables =[p0, p1]\n",
    "        return new_solution\n",
    "    \n",
    "    def get_name(self)->str:\n",
    "        return \"DFORC Problem\"\n",
    "    \n",
    "    "
   ]
  },
  {
   "cell_type": "code",
   "execution_count": 3,
   "id": "07cf2873-336e-4488-b790-082ce4eee2d1",
   "metadata": {},
   "outputs": [],
   "source": [
    "problem = Problem()\n",
    "algorithm = GeneticAlgorithm(\n",
    "    problem=problem,\n",
    "    population_size=20,\n",
    "    offspring_population_size=20,\n",
    "    mutation=PolynomialMutation(\n",
    "        probability=1.0 / problem.number_of_variables, distribution_index=20\n",
    "    ),\n",
    "    crossover=SBXCrossover(probability=1.0, distribution_index=20),\n",
    "    selection=RandomSolutionSelection(),\n",
    "    termination_criterion=StoppingByEvaluations(max_evaluations=500),\n",
    "    #termination_criterion=StoppingByKeyboard(),\n",
    ")\n",
    "basic = PrintObjectivesObserver()\n",
    "algorithm.observable.register(basic)\n"
   ]
  },
  {
   "cell_type": "code",
   "execution_count": 4,
   "id": "d02969a3-9538-4683-b21f-8ec65d513a61",
   "metadata": {},
   "outputs": [
    {
     "name": "stderr",
     "output_type": "stream",
     "text": [
      "2023-03-22 05:07:31,854 [MainThread  ] [INFO ]  Evaluations: 20. fitness: [-118.44120094215693]\n",
      "2023-03-22 05:08:35,043 [MainThread  ] [INFO ]  Evaluations: 40. fitness: [-131.9757873565638]\n",
      "2023-03-22 05:09:41,707 [MainThread  ] [INFO ]  Evaluations: 60. fitness: [-132.2002057185563]\n",
      "2023-03-22 05:10:49,704 [MainThread  ] [INFO ]  Evaluations: 80. fitness: [-132.76882838615353]\n",
      "2023-03-22 05:11:59,852 [MainThread  ] [INFO ]  Evaluations: 100. fitness: [-132.76882838615353]\n",
      "2023-03-22 05:13:11,846 [MainThread  ] [INFO ]  Evaluations: 120. fitness: [-132.76882838615353]\n",
      "2023-03-22 05:14:22,762 [MainThread  ] [INFO ]  Evaluations: 140. fitness: [-132.76882838615353]\n",
      "2023-03-22 05:15:33,984 [MainThread  ] [INFO ]  Evaluations: 160. fitness: [-132.7693995440492]\n",
      "2023-03-22 05:16:47,488 [MainThread  ] [INFO ]  Evaluations: 180. fitness: [-132.7693995440492]\n",
      "2023-03-22 05:18:01,732 [MainThread  ] [INFO ]  Evaluations: 200. fitness: [-132.7693995440492]\n",
      "2023-03-22 05:19:16,568 [MainThread  ] [INFO ]  Evaluations: 220. fitness: [-132.7693995440492]\n",
      "2023-03-22 05:20:34,020 [MainThread  ] [INFO ]  Evaluations: 240. fitness: [-132.7693995440492]\n",
      "2023-03-22 05:21:50,245 [MainThread  ] [INFO ]  Evaluations: 260. fitness: [-132.7693995440492]\n",
      "2023-03-22 05:23:06,776 [MainThread  ] [INFO ]  Evaluations: 280. fitness: [-132.7693995440492]\n",
      "2023-03-22 05:24:23,060 [MainThread  ] [INFO ]  Evaluations: 300. fitness: [-132.7693995440492]\n",
      "2023-03-22 05:25:39,895 [MainThread  ] [INFO ]  Evaluations: 320. fitness: [-132.77324641783977]\n",
      "2023-03-22 05:26:56,017 [MainThread  ] [INFO ]  Evaluations: 340. fitness: [-132.77324641783977]\n",
      "2023-03-22 05:28:12,354 [MainThread  ] [INFO ]  Evaluations: 360. fitness: [-132.77324641783977]\n",
      "2023-03-22 05:29:32,053 [MainThread  ] [INFO ]  Evaluations: 380. fitness: [-132.77324641783977]\n",
      "2023-03-22 05:30:49,680 [MainThread  ] [INFO ]  Evaluations: 400. fitness: [-132.77324641783977]\n",
      "2023-03-22 05:32:10,277 [MainThread  ] [INFO ]  Evaluations: 420. fitness: [-132.77324641783977]\n",
      "2023-03-22 05:33:27,711 [MainThread  ] [INFO ]  Evaluations: 440. fitness: [-132.77324641783977]\n",
      "2023-03-22 05:34:46,248 [MainThread  ] [INFO ]  Evaluations: 460. fitness: [-132.77324641783977]\n",
      "2023-03-22 05:36:04,854 [MainThread  ] [INFO ]  Evaluations: 480. fitness: [-132.7753351400862]\n",
      "2023-03-22 05:37:26,879 [MainThread  ] [INFO ]  Evaluations: 500. fitness: [-132.7753351400862]\n"
     ]
    }
   ],
   "source": [
    "algorithm.run()"
   ]
  },
  {
   "cell_type": "code",
   "execution_count": 22,
   "id": "dee9caad-fa2b-46a4-8950-690aae2adfe5",
   "metadata": {},
   "outputs": [
    {
     "name": "stdout",
     "output_type": "stream",
     "text": [
      "Solution(variables=[135443.4290161224, 91136.0026119844],objectives=[-132.7753351400862],constraints=[-44307.426404137994])\n"
     ]
    },
    {
     "data": {
      "text/plain": [
       "<bound method PrintObjectivesObserver.update of <jmetal.util.observer.PrintObjectivesObserver object at 0x14a087760>>"
      ]
     },
     "execution_count": 22,
     "metadata": {},
     "output_type": "execute_result"
    }
   ],
   "source": [
    "res1 = algorithm.get_result()\n",
    "print(res1)\n",
    "algorithm.observable.observers[1].update"
   ]
  },
  {
   "cell_type": "code",
   "execution_count": 10,
   "id": "0b98667f-57f5-499c-ad7f-d697d1d9eff9",
   "metadata": {},
   "outputs": [
    {
     "name": "stderr",
     "output_type": "stream",
     "text": [
      "2022-09-07 00:44:49,671 [MainThread  ] [INFO ]  Evaluations: 20. fitness: [-123.51131903048434]\n",
      "2022-09-07 00:45:35,801 [MainThread  ] [INFO ]  Evaluations: 40. fitness: [-132.41864490079058]\n",
      "2022-09-07 00:46:21,713 [MainThread  ] [INFO ]  Evaluations: 60. fitness: [-132.41864490079058]\n",
      "2022-09-07 00:47:08,741 [MainThread  ] [INFO ]  Evaluations: 80. fitness: [-132.4690545581804]\n",
      "2022-09-07 00:47:57,285 [MainThread  ] [INFO ]  Evaluations: 100. fitness: [-132.4690545581804]\n",
      "2022-09-07 00:48:46,028 [MainThread  ] [INFO ]  Evaluations: 120. fitness: [-132.65713206210268]\n",
      "2022-09-07 00:49:35,971 [MainThread  ] [INFO ]  Evaluations: 140. fitness: [-132.76809432666036]\n",
      "2022-09-07 00:50:27,149 [MainThread  ] [INFO ]  Evaluations: 160. fitness: [-132.76809432666036]\n",
      "2022-09-07 00:51:18,830 [MainThread  ] [INFO ]  Evaluations: 180. fitness: [-132.77328530321714]\n",
      "2022-09-07 00:52:11,410 [MainThread  ] [INFO ]  Evaluations: 200. fitness: [-132.77328530321714]\n",
      "2022-09-07 00:53:04,106 [MainThread  ] [INFO ]  Evaluations: 220. fitness: [-132.77328530321714]\n",
      "2022-09-07 00:53:57,257 [MainThread  ] [INFO ]  Evaluations: 240. fitness: [-132.7734321141561]\n",
      "2022-09-07 00:54:51,354 [MainThread  ] [INFO ]  Evaluations: 260. fitness: [-132.77347304351005]\n",
      "2022-09-07 00:55:46,233 [MainThread  ] [INFO ]  Evaluations: 280. fitness: [-132.77347304351005]\n",
      "2022-09-07 00:56:41,663 [MainThread  ] [INFO ]  Evaluations: 300. fitness: [-132.77347304351005]\n",
      "2022-09-07 00:57:37,573 [MainThread  ] [INFO ]  Evaluations: 320. fitness: [-132.77347304351005]\n",
      "2022-09-07 00:58:34,157 [MainThread  ] [INFO ]  Evaluations: 340. fitness: [-132.77347304351005]\n",
      "2022-09-07 00:59:31,173 [MainThread  ] [INFO ]  Evaluations: 360. fitness: [-132.77347304351005]\n",
      "2022-09-07 01:00:29,654 [MainThread  ] [INFO ]  Evaluations: 380. fitness: [-132.77347304351005]\n",
      "2022-09-07 01:01:29,233 [MainThread  ] [INFO ]  Evaluations: 400. fitness: [-132.7737503468209]\n",
      "2022-09-07 01:02:29,637 [MainThread  ] [INFO ]  Evaluations: 420. fitness: [-132.7737503468209]\n",
      "2022-09-07 01:03:31,173 [MainThread  ] [INFO ]  Evaluations: 440. fitness: [-132.7737503468209]\n",
      "2022-09-07 01:04:32,736 [MainThread  ] [INFO ]  Evaluations: 460. fitness: [-132.7737503468209]\n",
      "2022-09-07 01:05:34,468 [MainThread  ] [INFO ]  Evaluations: 480. fitness: [-132.7746758303178]\n",
      "2022-09-07 01:06:37,133 [MainThread  ] [INFO ]  Evaluations: 500. fitness: [-132.7746758303178]\n"
     ]
    }
   ],
   "source": [
    "algorithm.run()\n",
    "res2 = algorithm.get_result()"
   ]
  },
  {
   "cell_type": "code",
   "execution_count": 11,
   "id": "5f4a37b8-354c-4c98-8cd7-eef1c96eb825",
   "metadata": {},
   "outputs": [
    {
     "name": "stderr",
     "output_type": "stream",
     "text": [
      "2022-09-07 01:15:05,005 [MainThread  ] [INFO ]  Evaluations: 20. fitness: [-104.33985973659854]\n",
      "2022-09-07 01:16:07,401 [MainThread  ] [INFO ]  Evaluations: 40. fitness: [-132.2365123925332]\n",
      "2022-09-07 01:17:09,463 [MainThread  ] [INFO ]  Evaluations: 60. fitness: [-132.51375052554064]\n",
      "2022-09-07 01:18:13,100 [MainThread  ] [INFO ]  Evaluations: 80. fitness: [-132.51375052554064]\n",
      "2022-09-07 01:19:17,690 [MainThread  ] [INFO ]  Evaluations: 100. fitness: [-132.7146951449385]\n",
      "2022-09-07 01:20:22,783 [MainThread  ] [INFO ]  Evaluations: 120. fitness: [-132.7146951449385]\n",
      "2022-09-07 01:21:29,128 [MainThread  ] [INFO ]  Evaluations: 140. fitness: [-132.74623501136566]\n",
      "2022-09-07 01:22:36,602 [MainThread  ] [INFO ]  Evaluations: 160. fitness: [-132.74623501136566]\n",
      "2022-09-07 01:23:44,210 [MainThread  ] [INFO ]  Evaluations: 180. fitness: [-132.74623501136566]\n",
      "2022-09-07 01:24:51,936 [MainThread  ] [INFO ]  Evaluations: 200. fitness: [-132.74623501136566]\n",
      "2022-09-07 01:25:59,974 [MainThread  ] [INFO ]  Evaluations: 220. fitness: [-132.74623501136566]\n",
      "2022-09-07 01:27:08,510 [MainThread  ] [INFO ]  Evaluations: 240. fitness: [-132.76058320954692]\n",
      "2022-09-07 01:28:17,355 [MainThread  ] [INFO ]  Evaluations: 260. fitness: [-132.76058320954692]\n",
      "2022-09-07 01:29:26,790 [MainThread  ] [INFO ]  Evaluations: 280. fitness: [-132.76058320954692]\n",
      "2022-09-07 01:30:37,473 [MainThread  ] [INFO ]  Evaluations: 300. fitness: [-132.76521782227334]\n",
      "2022-09-07 01:31:48,117 [MainThread  ] [INFO ]  Evaluations: 320. fitness: [-132.76521782227334]\n",
      "2022-09-07 01:32:59,763 [MainThread  ] [INFO ]  Evaluations: 340. fitness: [-132.76521782227334]\n",
      "2022-09-07 01:34:12,638 [MainThread  ] [INFO ]  Evaluations: 360. fitness: [-132.76521782227334]\n",
      "2022-09-07 01:35:26,846 [MainThread  ] [INFO ]  Evaluations: 380. fitness: [-132.76521782227334]\n",
      "2022-09-07 01:36:42,027 [MainThread  ] [INFO ]  Evaluations: 400. fitness: [-132.77265321206835]\n",
      "2022-09-07 01:37:58,996 [MainThread  ] [INFO ]  Evaluations: 420. fitness: [-132.77307471478957]\n",
      "2022-09-07 01:39:16,483 [MainThread  ] [INFO ]  Evaluations: 440. fitness: [-132.77307471478957]\n",
      "2022-09-07 01:40:35,010 [MainThread  ] [INFO ]  Evaluations: 460. fitness: [-132.77307471478957]\n",
      "2022-09-07 01:41:52,453 [MainThread  ] [INFO ]  Evaluations: 480. fitness: [-132.77326171675742]\n",
      "2022-09-07 01:43:05,552 [MainThread  ] [INFO ]  Evaluations: 500. fitness: [-132.774121388715]\n"
     ]
    }
   ],
   "source": [
    "algorithm.run()\n",
    "res3 = algorithm.get_result()"
   ]
  },
  {
   "cell_type": "code",
   "execution_count": 12,
   "id": "281afb22-de5b-4d3a-b216-036abdd9df0e",
   "metadata": {},
   "outputs": [
    {
     "name": "stderr",
     "output_type": "stream",
     "text": [
      "2022-09-07 09:15:11,944 [MainThread  ] [INFO ]  Evaluations: 20. fitness: [-132.37186996931618]\n",
      "2022-09-07 09:16:27,767 [MainThread  ] [INFO ]  Evaluations: 40. fitness: [-132.37186996931618]\n",
      "2022-09-07 09:17:44,152 [MainThread  ] [INFO ]  Evaluations: 60. fitness: [-132.3830535761728]\n",
      "2022-09-07 09:19:03,030 [MainThread  ] [INFO ]  Evaluations: 80. fitness: [-132.49738444294363]\n",
      "2022-09-07 09:20:23,919 [MainThread  ] [INFO ]  Evaluations: 100. fitness: [-132.54549681136203]\n",
      "2022-09-07 09:21:44,162 [MainThread  ] [INFO ]  Evaluations: 120. fitness: [-132.76829442217243]\n",
      "2022-09-07 09:23:04,241 [MainThread  ] [INFO ]  Evaluations: 140. fitness: [-132.76969638493105]\n",
      "2022-09-07 09:24:32,862 [MainThread  ] [INFO ]  Evaluations: 160. fitness: [-132.76969638493105]\n",
      "2022-09-07 09:25:55,128 [MainThread  ] [INFO ]  Evaluations: 180. fitness: [-132.76969638493105]\n",
      "2022-09-07 09:27:23,609 [MainThread  ] [INFO ]  Evaluations: 200. fitness: [-132.76969638493105]\n",
      "2022-09-07 09:28:49,253 [MainThread  ] [INFO ]  Evaluations: 220. fitness: [-132.76969638493105]\n",
      "2022-09-07 09:30:12,619 [MainThread  ] [INFO ]  Evaluations: 240. fitness: [-132.76969638493105]\n",
      "2022-09-07 09:31:39,365 [MainThread  ] [INFO ]  Evaluations: 260. fitness: [-132.76969638493105]\n",
      "2022-09-07 09:33:07,946 [MainThread  ] [INFO ]  Evaluations: 280. fitness: [-132.76969638493105]\n",
      "2022-09-07 09:34:45,387 [MainThread  ] [INFO ]  Evaluations: 300. fitness: [-132.76969638493105]\n",
      "2022-09-07 09:36:11,688 [MainThread  ] [INFO ]  Evaluations: 320. fitness: [-132.76969638493105]\n",
      "2022-09-07 09:37:38,995 [MainThread  ] [INFO ]  Evaluations: 340. fitness: [-132.76969638493105]\n",
      "2022-09-07 09:39:07,339 [MainThread  ] [INFO ]  Evaluations: 360. fitness: [-132.76969638493105]\n",
      "2022-09-07 09:40:36,465 [MainThread  ] [INFO ]  Evaluations: 380. fitness: [-132.7702882497872]\n",
      "2022-09-07 09:42:06,204 [MainThread  ] [INFO ]  Evaluations: 400. fitness: [-132.77175306554375]\n",
      "2022-09-07 09:43:32,789 [MainThread  ] [INFO ]  Evaluations: 420. fitness: [-132.7718234623018]\n",
      "2022-09-07 09:44:58,752 [MainThread  ] [INFO ]  Evaluations: 440. fitness: [-132.7718234623018]\n",
      "2022-09-07 09:46:26,205 [MainThread  ] [INFO ]  Evaluations: 460. fitness: [-132.77288573339533]\n",
      "2022-09-07 09:47:57,422 [MainThread  ] [INFO ]  Evaluations: 480. fitness: [-132.77288573339533]\n",
      "2022-09-07 09:49:27,330 [MainThread  ] [INFO ]  Evaluations: 500. fitness: [-132.77288573339533]\n"
     ]
    }
   ],
   "source": [
    "algorithm.run()\n",
    "res4 = algorithm.get_result()"
   ]
  },
  {
   "cell_type": "code",
   "execution_count": 5,
   "id": "dff0db00-b882-4471-b661-cfc98c634f74",
   "metadata": {},
   "outputs": [],
   "source": [
    "problem3 = Problem()\n",
    "algorithm = GeneticAlgorithm(\n",
    "    problem=problem3,\n",
    "    population_size=20,\n",
    "    offspring_population_size=20,\n",
    "    mutation=PolynomialMutation(\n",
    "        probability=1.0 / problem3.number_of_variables, distribution_index=20\n",
    "    ),\n",
    "    crossover=SBXCrossover(probability=1.0, distribution_index=20),\n",
    "    selection=RandomSolutionSelection(),\n",
    "    termination_criterion=StoppingByEvaluations(max_evaluations=1),\n",
    "    #termination_criterion=StoppingByKeyboard(),\n",
    ")\n",
    "basic = PrintObjectivesObserver()\n",
    "algorithm.observable.register(basic)"
   ]
  },
  {
   "cell_type": "code",
   "execution_count": 6,
   "id": "9c79222e-0f55-4899-ae5c-3e5a72aa9d89",
   "metadata": {},
   "outputs": [
    {
     "name": "stderr",
     "output_type": "stream",
     "text": [
      "2022-09-07 20:06:43,635 [MainThread  ] [INFO ]  Evaluations: 20. fitness: [-129.53016087933318]\n"
     ]
    }
   ],
   "source": [
    "algorithm.run()"
   ]
  },
  {
   "cell_type": "code",
   "execution_count": 15,
   "id": "350bde31-cb1c-4608-8c29-8dbba1f8ea65",
   "metadata": {},
   "outputs": [],
   "source": [
    "p0=[]\n",
    "p1=[]\n",
    "for i in range(20):\n",
    "    p0.append(100E3+random.random()*(190E3-100E3))\n",
    "    p1.append(60E3+random.random()*(p0[i]-60E3))\n"
   ]
  },
  {
   "cell_type": "code",
   "execution_count": 26,
   "id": "5850c999-cee4-4a7f-a18e-7e7b0c2c6059",
   "metadata": {},
   "outputs": [
    {
     "data": {
      "text/plain": [
       "<matplotlib.collections.PathCollection at 0x1e2ad8af100>"
      ]
     },
     "execution_count": 26,
     "metadata": {},
     "output_type": "execute_result"
    },
    {
     "data": {
      "image/png": "[encoded data removed]",
      "text/plain": [
       "<Figure size 640x480 with 1 Axes>"
      ]
     },
     "metadata": {},
     "output_type": "display_data"
    }
   ],
   "source": [
    "import matplotlib.pyplot as plt\n",
    "plt.xlabel(\"$P_0\\vspace[Pa]$\")\n",
    "plt.scatter(x=p0, y=p1)"
   ]
  },
  {
   "cell_type": "code",
   "execution_count": null,
   "id": "f688e3a4",
   "metadata": {},
   "outputs": [],
   "source": []
  }
 ],
 "metadata": {
  "kernelspec": {
   "display_name": "Python 3 (ipykernel)",
   "language": "python",
   "name": "python3"
  },
  "language_info": {
   "codemirror_mode": {
    "name": "ipython",
    "version": 3
   },
   "file_extension": ".py",
   "mimetype": "text/x-python",
   "name": "python",
   "nbconvert_exporter": "python",
   "pygments_lexer": "ipython3",
   "version": "3.10.9"
  }
 },
 "nbformat": 4,
 "nbformat_minor": 5
}
